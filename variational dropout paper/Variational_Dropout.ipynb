{
  "nbformat": 4,
  "nbformat_minor": 0,
  "metadata": {
    "colab": {
      "provenance": []
    },
    "kernelspec": {
      "name": "python3",
      "display_name": "Python 3"
    },
    "language_info": {
      "name": "python"
    }
  },
  "cells": [
    {
      "cell_type": "code",
      "execution_count": null,
      "metadata": {
        "id": "Lec0yGXmf_TU"
      },
      "outputs": [],
      "source": [
        "#!pip install git+https://github.com/HolyBayes/pytorch_ard"
      ]
    },
    {
      "cell_type": "markdown",
      "source": [
        "## Dataset"
      ],
      "metadata": {
        "id": "pFdS1Lrjg0x2"
      }
    },
    {
      "cell_type": "code",
      "source": [],
      "metadata": {
        "id": "g8wSwnFDZ-MN"
      },
      "execution_count": null,
      "outputs": []
    },
    {
      "cell_type": "code",
      "source": [
        "import torch_ard as nn_ard\n",
        "from torch import nn\n",
        "import torch\n",
        "import torch.nn.functional as F\n",
        "from torch.nn import Parameter\n",
        "\n",
        "import pandas as pd\n",
        "\n",
        "from sklearn.model_selection import train_test_split\n",
        "from sklearn.preprocessing import StandardScaler, LabelEncoder, OneHotEncoder, LabelBinarizer\n",
        "from sklearn.metrics import roc_auc_score\n",
        "\n",
        "from torch_ard import get_ard_reg, get_dropped_params_ratio, ELBOLoss\n",
        "from tqdm import trange, tqdm\n",
        "\n",
        "import numpy as np\n",
        "\n",
        "import time"
      ],
      "metadata": {
        "id": "TXFSjQrngXJv"
      },
      "execution_count": null,
      "outputs": []
    },
    {
      "cell_type": "code",
      "source": [
        "data = pd.read_csv(\"PID-dataset-subsample.csv\")\n",
        "\n",
        "le = LabelEncoder()\n",
        "oh = OneHotEncoder()\n",
        "\n",
        "X = data.drop(columns = [\"Label\"])\n",
        "\n",
        "y_init = data[\"Label\"]\n",
        "\n",
        "le.fit(y_init)\n",
        "y = le.transform(y_init)\n",
        "X_train, X_test, y_train, y_test = train_test_split(X, y, train_size=0.65, random_state=42, stratify=y)\n",
        "\n",
        "y_testL = le.inverse_transform(y_test)\n",
        "\n",
        "ss = StandardScaler()\n",
        "ss.fit(X_train)\n",
        "X_train = ss.transform(X_train)\n",
        "X_test = ss.transform(X_test)\n"
      ],
      "metadata": {
        "id": "OOeSOsjZgEh4"
      },
      "execution_count": null,
      "outputs": []
    },
    {
      "cell_type": "code",
      "source": [
        "oh = OneHotEncoder()\n",
        "oh.fit(y.reshape(-1, 1));"
      ],
      "metadata": {
        "id": "B59nVnMhJx9j"
      },
      "execution_count": null,
      "outputs": []
    },
    {
      "cell_type": "code",
      "source": [
        "y_train = oh.transform(y_train.reshape(-1, 1)).toarray()\n",
        "y_test =  oh.transform(y_test.reshape(-1, 1)).toarray()"
      ],
      "metadata": {
        "id": "ETU8id2zJzd5"
      },
      "execution_count": null,
      "outputs": []
    },
    {
      "cell_type": "code",
      "source": [
        "y_train = torch.from_numpy(np.array(y_train)).float()\n",
        "y_test = torch.from_numpy(np.array(y_test)).float()"
      ],
      "metadata": {
        "id": "Y8RkaSpwJ5Nw"
      },
      "execution_count": null,
      "outputs": []
    },
    {
      "cell_type": "markdown",
      "source": [
        "## Training"
      ],
      "metadata": {
        "id": "vHi0BN9pgwj8"
      }
    },
    {
      "cell_type": "code",
      "source": [
        "torch.manual_seed(42)"
      ],
      "metadata": {
        "colab": {
          "base_uri": "https://localhost:8080/"
        },
        "id": "fUMvgF2-gvN-",
        "outputId": "ed3215d4-c83c-4dce-b12f-b8d229c4f86c"
      },
      "execution_count": null,
      "outputs": [
        {
          "output_type": "execute_result",
          "data": {
            "text/plain": [
              "<torch._C.Generator at 0x78dd0942ff30>"
            ]
          },
          "metadata": {},
          "execution_count": 40
        }
      ]
    },
    {
      "cell_type": "code",
      "source": [
        "device = \"cpu\""
      ],
      "metadata": {
        "id": "I8CKgLzbgmJv"
      },
      "execution_count": null,
      "outputs": []
    },
    {
      "cell_type": "code",
      "source": [
        "c\n"
      ],
      "metadata": {
        "id": "d89v9j_srYxi"
      },
      "execution_count": null,
      "outputs": []
    },
    {
      "cell_type": "code",
      "source": [
        "class DenseModelARD(nn.Module):\n",
        "    def __init__(self, input_shape, output_shape, hidden_size=150, activation=None):\n",
        "        super(DenseModelARD, self).__init__()\n",
        "        self.l1 = nn_ard.LinearARD(input_shape, hidden_size)\n",
        "        self.l2 = nn_ard.LinearARD(hidden_size, output_shape)\n",
        "        self.activation = activation\n",
        "        self._init_weights()\n",
        "\n",
        "    def forward(self, input):\n",
        "        x = input.to(self.device)\n",
        "        x = self.l1(x)\n",
        "        x = nn.functional.tanh(x)\n",
        "        x = self.l2(x)\n",
        "        if self.activation: x = self.activation(x)\n",
        "        return x\n",
        "\n",
        "    def _init_weights(self):\n",
        "        for layer in self.children():\n",
        "            if hasattr(layer, 'weight'): nn.init.xavier_uniform(layer.weight, gain=nn.init.calculate_gain('relu'))\n",
        "\n",
        "    @property\n",
        "    def device(self):\n",
        "        return next(self.parameters()).device"
      ],
      "metadata": {
        "id": "_WWT1Mjhg59l"
      },
      "execution_count": null,
      "outputs": []
    },
    {
      "cell_type": "code",
      "source": [
        "X_train.shape"
      ],
      "metadata": {
        "colab": {
          "base_uri": "https://localhost:8080/"
        },
        "id": "8eUhMRRdg8Qx",
        "outputId": "3a781916-4099-490a-a82d-eab349e940a8"
      },
      "execution_count": null,
      "outputs": [
        {
          "output_type": "execute_result",
          "data": {
            "text/plain": [
              "(39000, 49)"
            ]
          },
          "metadata": {},
          "execution_count": 11
        }
      ]
    },
    {
      "cell_type": "code",
      "source": [
        "model = DenseModelARD(input_shape=X_train.shape[1], output_shape=6,\n",
        "                      activation=nn.functional.relu).to(device)\n",
        "opt = torch.optim.Adam(model.parameters(), lr=1e-3)\n",
        "scheduler = torch.optim.lr_scheduler.ReduceLROnPlateau(opt, 'min')\n",
        "criterion = ELBOLoss(model, F.mse_loss).to(device)"
      ],
      "metadata": {
        "colab": {
          "base_uri": "https://localhost:8080/"
        },
        "id": "Lahv7C3ug-XS",
        "outputId": "cf989dff-d869-4144-be05-4ed515250b9d"
      },
      "execution_count": null,
      "outputs": [
        {
          "output_type": "stream",
          "name": "stderr",
          "text": [
            "<ipython-input-10-83767fc1a9ba>:19: UserWarning: nn.init.xavier_uniform is now deprecated in favor of nn.init.xavier_uniform_.\n",
            "  if hasattr(layer, 'weight'): nn.init.xavier_uniform(layer.weight, gain=nn.init.calculate_gain('relu'))\n"
          ]
        }
      ]
    },
    {
      "cell_type": "code",
      "source": [
        "X_train, X_test, y_train, y_test = \\\n",
        "    [torch.from_numpy(np.array(x)).float().to(device)\n",
        "     for x in [X_train, X_test, y_train, y_test]]\n",
        "X_train, X_test, y_train, y_test = torch.Tensor(X_train), torch.Tensor(X_test), torch.Tensor(y_train), torch.Tensor(y_test)\n",
        "n_epoches = 1000\n",
        "debug_frequency = 100\n",
        "def get_kl_weight(epoch): return min(1, 2 * epoch / n_epoches)\n",
        "\n",
        "\n",
        "pbar = trange(n_epoches, leave=True, position=0)\n",
        "for epoch in pbar:\n",
        "    kl_weight = get_kl_weight(epoch)\n",
        "    opt.zero_grad()\n",
        "    preds = model(X_train).squeeze()\n",
        "    loss = criterion(preds, y_train, 1, kl_weight)\n",
        "    loss.backward()\n",
        "    opt.step()\n",
        "    loss_train = float(\n",
        "        criterion(preds, y_train, 1, 0).detach().cpu().numpy())\n",
        "    preds = model(X_test).squeeze()\n",
        "    loss_test = float(\n",
        "        criterion(preds, y_test, 1, 0).detach().cpu().numpy())\n",
        "    pbar.set_description('MSE (train): %.3f\\tMSE (test): %.3f\\tReg: %.3f\\tDropout rate: %f%%' % (\n",
        "        loss_train, loss_test, get_ard_reg(model).item(), 100 * get_dropped_params_ratio(model)))\n",
        "    pbar.update()"
      ],
      "metadata": {
        "colab": {
          "base_uri": "https://localhost:8080/"
        },
        "id": "iV5rK9yAhAXu",
        "outputId": "bfbe9ffc-2c62-42e9-ad41-c25411819f48"
      },
      "execution_count": null,
      "outputs": [
        {
          "output_type": "stream",
          "name": "stderr",
          "text": [
            "MSE (train): 0.153\tMSE (test): 0.153\tReg: 0.199\tDropout rate: 100.000000%: 100%|██████████| 1000/1000 [05:20<00:00,  3.12it/s]\n"
          ]
        }
      ]
    },
    {
      "cell_type": "code",
      "source": [
        "start_time = time.time()\n",
        "pred = model(X_test)\n",
        "t = time.time() - start_time\n",
        "print(t)"
      ],
      "metadata": {
        "colab": {
          "base_uri": "https://localhost:8080/"
        },
        "id": "NgHRivVv4KvT",
        "outputId": "3229c906-d934-4a41-e0ef-b23c2a510577"
      },
      "execution_count": null,
      "outputs": [
        {
          "output_type": "stream",
          "name": "stdout",
          "text": [
            "0.06588244438171387\n"
          ]
        }
      ]
    },
    {
      "cell_type": "code",
      "source": [
        "pred = pd.DataFrame(pred.detach().numpy())\n",
        "pred = pred.idxmax(axis = 1)\n",
        "pred = le.inverse_transform(pred)\n",
        "lb = LabelBinarizer().fit(y_testL)"
      ],
      "metadata": {
        "id": "pvNnVW_7NiEQ"
      },
      "execution_count": null,
      "outputs": []
    },
    {
      "cell_type": "code",
      "source": [
        "for label in ['Electron', 'Ghost', 'Kaon', 'Muon', 'Pion', 'Proton']:\n",
        "    class_id = np.flatnonzero(lb.classes_ == label)[0]\n",
        "    print(f\"{label} score is {roc_auc_score(lb.transform(y_testL)[:, class_id], lb.transform(pred)[:, class_id])}\")"
      ],
      "metadata": {
        "colab": {
          "base_uri": "https://localhost:8080/"
        },
        "id": "gMj5QAb2N6uq",
        "outputId": "7e594ba5-50e0-4ca2-f69a-f94c405a2539"
      },
      "execution_count": null,
      "outputs": [
        {
          "output_type": "stream",
          "name": "stdout",
          "text": [
            "Electron score is 0.4967564345710528\n",
            "Ghost score is 0.503674278511097\n",
            "Kaon score is 0.5\n",
            "Muon score is 0.5002155767468908\n",
            "Pion score is 0.5\n",
            "Proton score is 0.5\n"
          ]
        }
      ]
    },
    {
      "cell_type": "code",
      "source": [],
      "metadata": {
        "id": "wg98rWJsOIID"
      },
      "execution_count": null,
      "outputs": []
    },
    {
      "cell_type": "code",
      "source": [],
      "metadata": {
        "id": "T_3dOxB9Oj4q"
      },
      "execution_count": null,
      "outputs": []
    },
    {
      "cell_type": "code",
      "source": [],
      "metadata": {
        "id": "HXFbHBcqi4kb"
      },
      "execution_count": null,
      "outputs": []
    }
  ]
}