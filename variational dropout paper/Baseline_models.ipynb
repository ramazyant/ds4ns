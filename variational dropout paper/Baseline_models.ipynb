{
  "nbformat": 4,
  "nbformat_minor": 0,
  "metadata": {
    "colab": {
      "provenance": [],
      "authorship_tag": "ABX9TyOLscEOtnkBY3ag+dKAnTXx",
      "include_colab_link": true
    },
    "kernelspec": {
      "name": "python3",
      "display_name": "Python 3"
    },
    "language_info": {
      "name": "python"
    }
  },
  "cells": [
    {
      "cell_type": "markdown",
      "metadata": {
        "id": "view-in-github",
        "colab_type": "text"
      },
      "source": [
        "<a href=\"https://colab.research.google.com/github/MonsterOnLeash/PID/blob/master/Baseline_models.ipynb\" target=\"_parent\"><img src=\"https://colab.research.google.com/assets/colab-badge.svg\" alt=\"Open In Colab\"/></a>"
      ]
    },
    {
      "cell_type": "code",
      "execution_count": null,
      "metadata": {
        "id": "lzpW-6lUEG-d"
      },
      "outputs": [],
      "source": [
        "from IPython.display import display, clear_output\n",
        "\n",
        "\n",
        "import torch\n",
        "from torch import nn\n",
        "import pandas as pd\n",
        "import numpy as np\n",
        "from tqdm.notebook import tqdm\n",
        "from torch.nn import functional as F\n",
        "\n",
        "import plotly.express as px\n",
        "\n",
        "from sklearn.model_selection import train_test_split\n",
        "from sklearn.preprocessing import StandardScaler, LabelEncoder, OneHotEncoder, LabelBinarizer\n",
        "from sklearn.metrics import roc_auc_score\n",
        "\n",
        "from tqdm import trange\n",
        "\n",
        "import time"
      ]
    },
    {
      "cell_type": "code",
      "source": [
        "data = pd.read_csv(\"PID-dataset-subsample.csv\")"
      ],
      "metadata": {
        "id": "KozJWf70EmRa"
      },
      "execution_count": null,
      "outputs": []
    },
    {
      "cell_type": "code",
      "source": [
        "le = LabelEncoder()"
      ],
      "metadata": {
        "id": "MDb2XNMJU4q5"
      },
      "execution_count": null,
      "outputs": []
    },
    {
      "cell_type": "code",
      "source": [
        "X = data.drop(columns = [\"Label\"])\n",
        "y_init = data[\"Label\"]\n",
        "le.fit(y_init)\n",
        "y = le.transform(y_init)\n",
        "X_train, X_test, y_train, y_test = train_test_split(X, y, train_size=0.65, random_state=42, stratify=y)"
      ],
      "metadata": {
        "id": "JissXKYwMx33"
      },
      "execution_count": null,
      "outputs": []
    },
    {
      "cell_type": "code",
      "source": [
        "ss = StandardScaler()\n",
        "ss.fit(X_train)\n",
        "X_train = ss.transform(X_train)\n",
        "X_test = ss.transform(X_test)"
      ],
      "metadata": {
        "id": "z-QSOloeEvJY"
      },
      "execution_count": null,
      "outputs": []
    },
    {
      "cell_type": "code",
      "source": [
        "device = \"cpu\""
      ],
      "metadata": {
        "id": "V4OhPovsFj_E"
      },
      "execution_count": null,
      "outputs": []
    },
    {
      "cell_type": "code",
      "source": [
        "oh = OneHotEncoder()\n",
        "oh.fit(y.reshape(-1, 1));\n"
      ],
      "metadata": {
        "id": "9t4sSUt4gwRD"
      },
      "execution_count": null,
      "outputs": []
    },
    {
      "cell_type": "code",
      "source": [
        "y_train6 = oh.transform(y_train.reshape(-1, 1)).toarray()\n",
        "y_test6 =  oh.transform(y_test.reshape(-1, 1)).toarray()"
      ],
      "metadata": {
        "id": "8Rs4f7tOd-bS"
      },
      "execution_count": null,
      "outputs": []
    },
    {
      "cell_type": "code",
      "source": [
        "X_trainT = torch.from_numpy(np.array(X_train)).float()\n",
        "X_testT = torch.from_numpy(np.array(X_test)).float()\n",
        "y_trainT = torch.from_numpy(np.array(y_train6)).float()\n",
        "y_testT = torch.from_numpy(np.array(y_test6)).float()"
      ],
      "metadata": {
        "id": "KOVbYA99GGUD"
      },
      "execution_count": null,
      "outputs": []
    },
    {
      "cell_type": "code",
      "source": [
        "class OneLayer(nn.Module):\n",
        "    def __init__(self, input_shape, output_shape, hidden_layer, activation = None):\n",
        "        super(OneLayer, self).__init__()\n",
        "        self.sequential = nn.Sequential(\n",
        "            nn.Linear(input_shape, hidden_layer),\n",
        "            activation,\n",
        "            nn.Linear(hidden_layer, output_shape)\n",
        "        )\n",
        "\n",
        "    def forward(self, x):\n",
        "        x = self.sequential(x)\n",
        "        return x"
      ],
      "metadata": {
        "id": "id9ccoQEI8QI"
      },
      "execution_count": null,
      "outputs": []
    },
    {
      "cell_type": "code",
      "source": [
        "torch.manual_seed(42);"
      ],
      "metadata": {
        "id": "K4b3Uq1CVvPy"
      },
      "execution_count": null,
      "outputs": []
    },
    {
      "cell_type": "markdown",
      "source": [
        "# One NN with 6 outputs"
      ],
      "metadata": {
        "id": "UVbjbOAisRQj"
      }
    },
    {
      "cell_type": "code",
      "source": [
        "model = OneLayer(49, 6, 140, nn.ReLU())\n",
        "model.to(device)\n",
        "criterion = nn.MSELoss()\n",
        "opt = torch.optim.Adam(model.parameters(), lr=1e-2)\n",
        "scheduler = torch.optim.lr_scheduler.ReduceLROnPlateau(opt, 'min')\n",
        "\n",
        "n_epoches = 5000\n",
        "debug_frequency = 100\n",
        "\n",
        "pbar = trange(n_epoches, leave=True, position=0)\n",
        "for epoch in pbar:\n",
        "    opt.zero_grad()\n",
        "    preds = model(X_trainT).squeeze()\n",
        "    loss = criterion(preds, y_trainT)\n",
        "    loss.backward()\n",
        "    scheduler.step(loss)\n",
        "    opt.step()\n",
        "    loss_train = float(criterion(preds, y_trainT).detach().cpu().numpy())\n",
        "    preds = model(X_testT).squeeze()\n",
        "    loss_test = float(criterion(preds, y_testT).detach().cpu().numpy())\n",
        "    pbar.set_description('MSE (train): %.3f\\tMSE (test): %.3f' %\n",
        "                         (loss_train, loss_test))\n",
        "    pbar.update()"
      ],
      "metadata": {
        "colab": {
          "base_uri": "https://localhost:8080/"
        },
        "id": "DZzo5YISaYyG",
        "outputId": "3dcc5cdf-5774-4027-8524-94685cae5e52"
      },
      "execution_count": null,
      "outputs": [
        {
          "output_type": "stream",
          "name": "stderr",
          "text": [
            "MSE (train): 0.056\tMSE (test): 0.061: 100%|██████████| 5000/5000 [07:39<00:00, 10.88it/s]\n"
          ]
        }
      ]
    },
    {
      "cell_type": "code",
      "source": [
        "start_time = time.time()\n",
        "pred = model(X_testT)\n",
        "print(time.time() - start_time)\n",
        "pred = pd.DataFrame(pred.detach().numpy())\n",
        "pred = pred.idxmax(axis = 1)\n",
        "pred = le.inverse_transform(pred)\n",
        "y_testL = le.inverse_transform(y_test)\n",
        "lb = LabelBinarizer().fit(y_testL)"
      ],
      "metadata": {
        "colab": {
          "base_uri": "https://localhost:8080/"
        },
        "id": "0SJhTu5XcRNi",
        "outputId": "3df1d5d7-ce67-4c15-ecb2-79d85915334b"
      },
      "execution_count": null,
      "outputs": [
        {
          "output_type": "stream",
          "name": "stdout",
          "text": [
            "0.015720129013061523\n"
          ]
        }
      ]
    },
    {
      "cell_type": "code",
      "source": [
        "for label in ['Electron', 'Ghost', 'Kaon', 'Muon', 'Pion', 'Proton']:\n",
        "    class_id = np.flatnonzero(lb.classes_ == label)[0]\n",
        "    print(f\"{label} score is {roc_auc_score(lb.transform(y_testL)[:, class_id], lb.transform(pred)[:, class_id])}\")"
      ],
      "metadata": {
        "colab": {
          "base_uri": "https://localhost:8080/"
        },
        "id": "Sl7vsUZMkTuc",
        "outputId": "1fc8613e-1947-45db-b5c9-3257ce1f85da"
      },
      "execution_count": null,
      "outputs": [
        {
          "output_type": "stream",
          "name": "stdout",
          "text": [
            "Electron score is 0.9220534553822972\n",
            "Ghost score is 0.8609794746237357\n",
            "Kaon score is 0.7691175843910755\n",
            "Muon score is 0.9362265414848623\n",
            "Pion score is 0.851251136686017\n",
            "Proton score is 0.7348779354562212\n"
          ]
        }
      ]
    },
    {
      "cell_type": "markdown",
      "source": [
        "# 6 independent binary classification NNs"
      ],
      "metadata": {
        "id": "hPSNczVEsBoG"
      }
    },
    {
      "cell_type": "code",
      "source": [
        "LABELS = ['Electron', 'Ghost', 'Kaon', 'Muon', 'Pion', 'Proton']"
      ],
      "metadata": {
        "id": "P9SIHkn-0OT0"
      },
      "execution_count": null,
      "outputs": []
    },
    {
      "cell_type": "code",
      "source": [
        "y_train1 = dict()\n",
        "y_test1 = dict()"
      ],
      "metadata": {
        "id": "entMU8tDqrbj"
      },
      "execution_count": null,
      "outputs": []
    },
    {
      "cell_type": "code",
      "source": [
        "for label in LABELS:\n",
        "    label_code = le.transform([label])[0]\n",
        "    y_train1[label] = torch.from_numpy(np.array((y_train == label_code).astype(int))).float()\n",
        "    y_test1[label] = torch.from_numpy(np.array((y_test == label_code).astype(int))).float()"
      ],
      "metadata": {
        "id": "4uVB8Y3BrvF7"
      },
      "execution_count": null,
      "outputs": []
    },
    {
      "cell_type": "code",
      "source": [
        "models = []\n",
        "for i in range(6):\n",
        "    models.append(OneLayer(49, 1, 35, nn.ReLU()))\n",
        "    models[i].to(device)\n",
        "    criterion = nn.MSELoss()\n",
        "    opt = torch.optim.Adam(models[i].parameters(), lr=1e-2)\n",
        "    scheduler = torch.optim.lr_scheduler.ReduceLROnPlateau(opt, 'min')\n",
        "\n",
        "    n_epoches = 3000\n",
        "    debug_frequency = 100\n",
        "\n",
        "    pbar = trange(n_epoches, leave=True, position=0)\n",
        "    for epoch in pbar:\n",
        "        opt.zero_grad()\n",
        "        preds = models[i](X_trainT).squeeze()\n",
        "        loss = criterion(preds, y_train1[le.inverse_transform([i])[0]])\n",
        "        loss.backward()\n",
        "        scheduler.step(loss)\n",
        "        opt.step()\n",
        "        loss_train = float(criterion(preds, y_train1[le.inverse_transform([i])[0]]).detach().cpu().numpy())\n",
        "        preds = models[i](X_testT).squeeze()\n",
        "        loss_test = float(criterion(preds, y_test1[le.inverse_transform([i])[0]]).detach().cpu().numpy())\n",
        "        pbar.set_description('MSE (train): %.3f\\tMSE (test): %.3f' %\n",
        "                            (loss_train, loss_test))\n",
        "        pbar.update()"
      ],
      "metadata": {
        "colab": {
          "base_uri": "https://localhost:8080/"
        },
        "id": "bR0K8fa20Bw8",
        "outputId": "4adc67df-79d2-4f76-edb2-ced5cd9ed368"
      },
      "execution_count": null,
      "outputs": [
        {
          "output_type": "stream",
          "name": "stderr",
          "text": [
            "MSE (train): 0.032\tMSE (test): 0.037: 100%|██████████| 3000/3000 [01:27<00:00, 34.47it/s]\n",
            "MSE (train): 0.056\tMSE (test): 0.062: 100%|██████████| 3000/3000 [01:27<00:00, 34.18it/s]\n",
            "MSE (train): 0.080\tMSE (test): 0.086: 100%|██████████| 3000/3000 [01:27<00:00, 34.41it/s]\n",
            "MSE (train): 0.025\tMSE (test): 0.029: 100%|██████████| 3000/3000 [01:27<00:00, 34.33it/s]\n",
            "MSE (train): 0.063\tMSE (test): 0.068: 100%|██████████| 3000/3000 [01:26<00:00, 34.54it/s]\n",
            "MSE (train): 0.081\tMSE (test): 0.088: 100%|██████████| 3000/3000 [01:27<00:00, 34.46it/s]\n"
          ]
        }
      ]
    },
    {
      "cell_type": "code",
      "source": [
        "pred = pd.DataFrame(columns=[0,1,2,3,4,5])\n",
        "set_time = time.time()\n",
        "for i in range(6):\n",
        "    pr = pd.Series(models[i](X_testT).detach().numpy().reshape(-1))\n",
        "    pred[i] = pr\n",
        "print(time.time() - set_time)"
      ],
      "metadata": {
        "colab": {
          "base_uri": "https://localhost:8080/"
        },
        "id": "VxqsorWp0miP",
        "outputId": "2ae49467-a6b1-4d67-c171-73c166bdcf6a"
      },
      "execution_count": null,
      "outputs": [
        {
          "output_type": "stream",
          "name": "stdout",
          "text": [
            "0.03463149070739746\n"
          ]
        }
      ]
    },
    {
      "cell_type": "code",
      "source": [
        "pred = pred.idxmax(axis = 1)\n",
        "pred = le.inverse_transform(pred)\n",
        "y_testL = le.inverse_transform(y_test)\n",
        "lb = LabelBinarizer().fit(y_testL)"
      ],
      "metadata": {
        "id": "tPIh8CJNA26X"
      },
      "execution_count": null,
      "outputs": []
    },
    {
      "cell_type": "code",
      "source": [
        "for label in ['Electron', 'Ghost', 'Kaon', 'Muon', 'Pion', 'Proton']:\n",
        "    class_id = np.flatnonzero(lb.classes_ == label)[0]\n",
        "    print(f\"{label} score is {roc_auc_score(lb.transform(y_testL)[:, class_id], lb.transform(pred)[:, class_id])}\")"
      ],
      "metadata": {
        "colab": {
          "base_uri": "https://localhost:8080/"
        },
        "id": "MEX2sN9lBX03",
        "outputId": "46d796f4-744e-4477-a26b-a78d6ae16e89"
      },
      "execution_count": null,
      "outputs": [
        {
          "output_type": "stream",
          "name": "stdout",
          "text": [
            "Electron score is 0.9236496348513912\n",
            "Ghost score is 0.8608007959805553\n",
            "Kaon score is 0.7604310108665875\n",
            "Muon score is 0.9337392381577901\n",
            "Pion score is 0.8485518915022743\n",
            "Proton score is 0.7437610698634946\n"
          ]
        }
      ]
    },
    {
      "cell_type": "code",
      "source": [
        "set_time = time.time()\n",
        "models[0](X_testT)\n",
        "models[1](X_testT)\n",
        "models[2](X_testT)\n",
        "models[3](X_testT)\n",
        "models[4](X_testT)\n",
        "models[5](X_testT)\n",
        "print(time.time() - set_time)"
      ],
      "metadata": {
        "colab": {
          "base_uri": "https://localhost:8080/"
        },
        "id": "xSaKGCDZBt0l",
        "outputId": "4dd0c114-2262-4040-b1c5-bd938b027e09"
      },
      "execution_count": null,
      "outputs": [
        {
          "output_type": "stream",
          "name": "stdout",
          "text": [
            "0.028741836547851562\n"
          ]
        }
      ]
    },
    {
      "cell_type": "code",
      "source": [],
      "metadata": {
        "id": "nXgJjq4BJVvx"
      },
      "execution_count": null,
      "outputs": []
    }
  ]
}