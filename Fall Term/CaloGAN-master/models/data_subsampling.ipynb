{
 "cells": [
  {
   "cell_type": "code",
   "execution_count": 42,
   "metadata": {},
   "outputs": [
    {
     "name": "stdout",
     "output_type": "stream",
     "text": [
      "<KeysViewHDF5 ['energy', 'layer_0', 'layer_1', 'layer_2', 'overflow']>\n",
      "<HDF5 dataset \"energy\": shape (100000, 1), type \"<f8\">\n"
     ]
    }
   ],
   "source": [
    "import h5py\n",
    "import numpy as np\n",
    "import pandas as pd\n",
    "# Open the original file\n",
    "with h5py.File(r'C:\\Users\\User\\Documents\\CaloGAN-master\\models\\data\\gamma.hdf5', 'r') as f:\n",
    "    # Access your dataset\n",
    "    print(f.keys())\n",
    "    print(f['energy'])\n",
    "    with h5py.File(r'C:\\Users\\User\\Documents\\CaloGAN-master\\models\\data\\gamma_downsampled.hdf5', 'w') as f_out:\n",
    "        for key in f.keys():\n",
    "            # Load the data for the current key\n",
    "            data = f[key]\n",
    "\n",
    "            # Reduce the number of observations by taking every nth element\n",
    "            n = 10000  # You can adjust this parameter as needed\n",
    "            downsampled_data = data[:n]\n",
    "            f_out.create_dataset(key, data=downsampled_data)\n",
    "            \n",
    "    #len(dataset)"
   ]
  },
  {
   "cell_type": "code",
   "execution_count": 43,
   "metadata": {},
   "outputs": [
    {
     "name": "stdout",
     "output_type": "stream",
     "text": [
      "<HDF5 dataset \"energy\": shape (10000, 1), type \"<f8\">\n"
     ]
    }
   ],
   "source": [
    "with h5py.File(r'C:\\Users\\User\\Documents\\CaloGAN-master\\models\\data\\gamma_downsampled.hdf5', 'r') as f:\n",
    "    # Access your dataset\n",
    "    print(f['energy'])"
   ]
  },
  {
   "cell_type": "code",
   "execution_count": 23,
   "metadata": {},
   "outputs": [
    {
     "name": "stderr",
     "output_type": "stream",
     "text": [
      "\"hdf5dump\" �� ���� ����७��� ��� ���譥�\n",
      "��������, �ᯮ��塞�� �ணࠬ��� ��� ������ 䠩���.\n"
     ]
    }
   ],
   "source": [
    "!hdf5dump data/piplus_downsampled.hdf5"
   ]
  }
 ],
 "metadata": {
  "kernelspec": {
   "display_name": "myenv",
   "language": "python",
   "name": "python3"
  },
  "language_info": {
   "codemirror_mode": {
    "name": "ipython",
    "version": 3
   },
   "file_extension": ".py",
   "mimetype": "text/x-python",
   "name": "python",
   "nbconvert_exporter": "python",
   "pygments_lexer": "ipython3",
   "version": "3.10.11"
  }
 },
 "nbformat": 4,
 "nbformat_minor": 2
}
